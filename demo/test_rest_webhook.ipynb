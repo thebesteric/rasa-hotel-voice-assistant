{
 "cells": [
  {
   "metadata": {
    "collapsed": true,
    "ExecuteTime": {
     "end_time": "2025-02-14T06:12:46.889930Z",
     "start_time": "2025-02-14T06:12:46.734882Z"
    }
   },
   "cell_type": "code",
   "source": [
    "import requests\n",
    "import json\n",
    "\n",
    "# 启动命令：rasa run -m models --enable-api --cors \"*\" --debug\n",
    "\n",
    "# Rasa 服务器地址\n",
    "rasa_server_url = 'http://localhost:5005/webhooks/rest/webhook'\n",
    "\n",
    "# 用户消息\n",
    "user_message = {\n",
    "    \"sender\": \"user1\",\n",
    "    \"message\": \"我要预定酒店\"\n",
    "}\n",
    "\n",
    "try:\n",
    "    # 发送 POST 请求\n",
    "    response = requests.post(rasa_server_url, json=user_message)\n",
    "\n",
    "    # 检查响应状态码\n",
    "    if response.status_code == 200:\n",
    "        # 从响应中获取 JSON 数据\n",
    "        json_data = response.json()\n",
    "        entities_json_str = json.dumps(json_data, ensure_ascii=False, indent=4)\n",
    "        print(entities_json_str)\n",
    "    else:\n",
    "        print(f\"请求失败，状态码: {response.status_code}\")\n",
    "except requests.RequestException as e:\n",
    "    print(f\"请求发生错误: {e}\")"
   ],
   "id": "initial_id",
   "outputs": [
    {
     "name": "stdout",
     "output_type": "stream",
     "text": [
      "[\n",
      "    {\n",
      "        \"recipient_id\": \"user1\",\n",
      "        \"text\": \"请问酒店大概在哪个位置呢？如：火车站附近\"\n",
      "    }\n",
      "]\n"
     ]
    }
   ],
   "execution_count": 17
  }
 ],
 "metadata": {
  "kernelspec": {
   "display_name": "Python 3",
   "language": "python",
   "name": "python3"
  },
  "language_info": {
   "codemirror_mode": {
    "name": "ipython",
    "version": 2
   },
   "file_extension": ".py",
   "mimetype": "text/x-python",
   "name": "python",
   "nbconvert_exporter": "python",
   "pygments_lexer": "ipython2",
   "version": "2.7.6"
  }
 },
 "nbformat": 4,
 "nbformat_minor": 5
}
